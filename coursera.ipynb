{
  "nbformat": 4,
  "nbformat_minor": 0,
  "metadata": {
    "colab": {
      "provenance": [],
      "authorship_tag": "ABX9TyPoQM6U5Z6ZZ/i07uT3KTvc",
      "include_colab_link": true
    },
    "kernelspec": {
      "name": "python3",
      "display_name": "Python 3"
    },
    "language_info": {
      "name": "python"
    }
  },
  "cells": [
    {
      "cell_type": "markdown",
      "metadata": {
        "id": "view-in-github",
        "colab_type": "text"
      },
      "source": [
        "<a href=\"https://colab.research.google.com/github/leafyceej/coursera/blob/main/coursera.ipynb\" target=\"_parent\"><img src=\"https://colab.research.google.com/assets/colab-badge.svg\" alt=\"Open In Colab\"/></a>"
      ]
    },
    {
      "cell_type": "markdown",
      "source": [
        "This notebook lets you experiment with producing repeatable technical documentation. Use this notebook to do the following actions:\n",
        "\n",
        "Create a code cell and print a Python Hello World statement: print(\"hello world\")\n",
        "Create a Markdown Cell and add a Title using # and then a statement using plain text. You can looks at the source code for this cell to get an idea of how to use Markdown.\n",
        "Take some ideas from the Master Markdown Github Guide and implement them here.\n",
        "Download this notebook as a .ipynb file and check into a Github Project. You can see an example here.\n",
        "Open your notebook in Google Colab and save it into the same Github Project. You can see an example here."
      ],
      "metadata": {
        "id": "36eGLoi-E6kp"
      }
    }
  ]
}